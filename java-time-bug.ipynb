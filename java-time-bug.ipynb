{
 "cells": [
  {
   "cell_type": "code",
   "execution_count": 1,
   "metadata": {},
   "outputs": [
    {
     "data": {
      "text/plain": [
       "{[clojure.java-time \"0.3.2\"] #{[clj-tuple \"0.2.2\"]}, [clj-tuple \"0.2.2\"] nil}"
      ]
     },
     "execution_count": 1,
     "metadata": {},
     "output_type": "execute_result"
    }
   ],
   "source": [
    "(clojupyter.misc.stacktrace/set-print-stacktraces! true)\n",
    "(require '[clojupyter.misc.helper :as helper])\n",
    "(helper/add-dependencies '[clojure.java-time \"0.3.2\"])"
   ]
  },
  {
   "cell_type": "code",
   "execution_count": 2,
   "metadata": {},
   "outputs": [
    {
     "name": "stderr",
     "output_type": "stream",
     "text": [
      "Syntax error (IllegalAccessError) compiling at (temporal.clj:324:1).\n",
      "tried to access field clojure.lang.APersistentVector._hash from class clojure.lang.PersistentUnrolledVector$Card1\n"
     ]
    },
    {
     "ename": "class clojure.lang.Compiler$CompilerException",
     "evalue": "",
     "output_type": "error",
     "traceback": [
      "PersistentUnrolledVector.java:   253 clojure.lang.PersistentUnrolledVector$Card1/hashCode      ",
      "       ConcurrentHashMap.java:   936 java.util.concurrent.ConcurrentHashMap/get                ",
      "                     util.clj:    48 java_time.potemkin.util$fast_memoize$fn__5961/invoke      ",
      "            defconversion.clj:    25 java_time.defconversion$combinations/invokeStatic         ",
      "            defconversion.clj:    24 java_time.defconversion$combinations/invoke               ",
      "            defconversion.clj:    43 java_time.defconversion$conversion_BANG_/invokeStatic     ",
      "            defconversion.clj:    39 java_time.defconversion$conversion_BANG_/invoke           ",
      "            defconversion.clj:    40 java_time.defconversion$conversion_BANG_/invokeStatic     ",
      "            defconversion.clj:    39 java_time.defconversion$conversion_BANG_/invoke           ",
      "                 temporal.clj:   326 java_time.temporal$eval6871/invokeStatic                  ",
      "                      RT.java:   381 clojure.lang.RT/loadResourceScript                        ",
      "                      RT.java:   463 clojure.lang.RT/load                                      ",
      "                     core.clj:  6126 clojure.core$load$fn__6824/invoke                         ",
      "                     core.clj:  6125 clojure.core$load/invokeStatic                            ",
      "                     core.clj:  6109 clojure.core$load/doInvoke                                ",
      "                  RestFn.java:   408 clojure.lang.RestFn/invoke                                ",
      "                     core.clj:  5908 clojure.core$load_one/invokeStatic                        ",
      "                     core.clj:  5903 clojure.core$load_one/invoke                              ",
      "                     core.clj:  5948 clojure.core$load_lib$fn__6765/invoke                     ",
      "                     core.clj:  5947 clojure.core$load_lib/invokeStatic                        ",
      "                     core.clj:  5928 clojure.core$load_lib/doInvoke                            ",
      "                  RestFn.java:   142 clojure.lang.RestFn/applyTo                               ",
      "                     core.clj:   667 clojure.core$apply/invokeStatic                           ",
      "                     core.clj:  5989 clojure.core$load_libs/invokeStatic                       ",
      "                     core.clj:  5969 clojure.core$load_libs/doInvoke                           ",
      "                  RestFn.java:   137 clojure.lang.RestFn/applyTo                               ",
      "                     core.clj:   667 clojure.core$apply/invokeStatic                           ",
      "                     core.clj:  6007 clojure.core$require/invokeStatic                         ",
      "                  RestFn.java:   436 clojure.lang.RestFn/invoke                                ",
      "                java_time.clj:     1 java_time$eval4936$loading__6706__auto____4937/invoke     ",
      "                      RT.java:   381 clojure.lang.RT/loadResourceScript                        ",
      "                      RT.java:   463 clojure.lang.RT/load                                      ",
      "                     core.clj:  6126 clojure.core$load$fn__6824/invoke                         ",
      "                     core.clj:  6125 clojure.core$load/invokeStatic                            ",
      "                     core.clj:  6109 clojure.core$load/doInvoke                                ",
      "                  RestFn.java:   408 clojure.lang.RestFn/invoke                                ",
      "                     core.clj:  5908 clojure.core$load_one/invokeStatic                        ",
      "                     core.clj:  5903 clojure.core$load_one/invoke                              ",
      "                     core.clj:  5948 clojure.core$load_lib$fn__6765/invoke                     ",
      "                     core.clj:  5947 clojure.core$load_lib/invokeStatic                        ",
      "                     core.clj:  5928 clojure.core$load_lib/doInvoke                            ",
      "                  RestFn.java:   142 clojure.lang.RestFn/applyTo                               ",
      "                     core.clj:   667 clojure.core$apply/invokeStatic                           ",
      "                     core.clj:  5985 clojure.core$load_libs/invokeStatic                       ",
      "                     core.clj:  5969 clojure.core$load_libs/doInvoke                           ",
      "                  RestFn.java:   137 clojure.lang.RestFn/applyTo                               ",
      "                     core.clj:   667 clojure.core$apply/invokeStatic                           ",
      "                     core.clj:  6007 clojure.core$require/invokeStatic                         ",
      "                  RestFn.java:   408 clojure.lang.RestFn/invoke                                ",
      "                           []:     1 test_java_time$eval4930$loading__6706__auto____4931/invoke",
      "                     core.clj:  3214 clojure.core$eval/invokeStatic                            ",
      "                     core.clj:  3210 clojure.core$eval/invoke                                  ",
      "                     main.clj:   414 clojure.main$repl$read_eval_print__9068$fn__9071/invoke   ",
      "                     main.clj:   435 clojure.main$repl$fn__9077/invoke                         ",
      "                     main.clj:   345 clojure.main$repl/doInvoke                                ",
      "                  RestFn.java:  1523 clojure.lang.RestFn/invoke                                ",
      "                     AFn.java:   152 clojure.lang.AFn/applyToHelper                            ",
      "                     AFn.java:   144 clojure.lang.AFn/applyTo                                  ",
      "                     core.clj:   665 clojure.core$apply/invokeStatic                           ",
      "                     core.clj:  1973 clojure.core$with_bindings_STAR_/invokeStatic             ",
      "                  RestFn.java:   425 clojure.lang.RestFn/invoke                                ",
      "                     AFn.java:    22 clojure.lang.AFn/run                                      ",
      "      ThreadPoolExecutor.java:  1142 java.util.concurrent.ThreadPoolExecutor/runWorker         ",
      "      ThreadPoolExecutor.java:   617 java.util.concurrent.ThreadPoolExecutor$Worker/run        ",
      "                  Thread.java:   745 java.lang.Thread/run                                      "
     ]
    }
   ],
   "source": [
    "(ns test-java-time\n",
    "    (:require [java-time :as dt]))\n",
    "\n"
   ]
  },
  {
   "cell_type": "code",
   "execution_count": null,
   "metadata": {},
   "outputs": [],
   "source": []
  },
  {
   "cell_type": "code",
   "execution_count": null,
   "metadata": {},
   "outputs": [],
   "source": []
  }
 ],
 "metadata": {
  "kernelspec": {
   "display_name": "Clojure (clojupyter)",
   "language": "clojure",
   "name": "clojure"
  },
  "language_info": {
   "file_extension": ".clj",
   "mimetype": "text/x-clojure",
   "name": "clojure",
   "version": "1.10.0"
  }
 },
 "nbformat": 4,
 "nbformat_minor": 2
}
