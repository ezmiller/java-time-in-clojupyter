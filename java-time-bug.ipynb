{
 "cells": [
  {
   "cell_type": "code",
   "execution_count": 1,
   "metadata": {},
   "outputs": [
    {
     "data": {
      "text/plain": [
       "nil"
      ]
     },
     "execution_count": 1,
     "metadata": {},
     "output_type": "execute_result"
    }
   ],
   "source": [
    "(clojupyter.misc.stacktrace/set-print-stacktraces! true)\n",
    "(require '[clojupyter.misc.helper :as helper])\n",
    ";; (helper/add-dependencies '[clojure.java-time \"0.3.2\"])"
   ]
  },
  {
   "cell_type": "code",
   "execution_count": 2,
   "metadata": {},
   "outputs": [
    {
     "name": "stderr",
     "output_type": "stream",
     "text": [
      "Execution error (FileNotFoundException) at test-java-time/eval4928$loading (REPL:1).\n",
      "Could not locate java_time__init.class, java_time.clj or java_time.cljc on classpath. Please check that namespaces with dashes use underscores in the Clojure file name.\n"
     ]
    },
    {
     "ename": "class java.io.FileNotFoundException",
     "evalue": "",
     "output_type": "error",
     "traceback": [
      "                RT.java:   466 clojure.lang.RT/load                                      ",
      "               core.clj:  6126 clojure.core$load$fn__6824/invoke                         ",
      "               core.clj:  6125 clojure.core$load/invokeStatic                            ",
      "               core.clj:  6109 clojure.core$load/doInvoke                                ",
      "            RestFn.java:   408 clojure.lang.RestFn/invoke                                ",
      "               core.clj:  5908 clojure.core$load_one/invokeStatic                        ",
      "               core.clj:  5903 clojure.core$load_one/invoke                              ",
      "               core.clj:  5948 clojure.core$load_lib$fn__6765/invoke                     ",
      "               core.clj:  5947 clojure.core$load_lib/invokeStatic                        ",
      "               core.clj:  5928 clojure.core$load_lib/doInvoke                            ",
      "            RestFn.java:   142 clojure.lang.RestFn/applyTo                               ",
      "               core.clj:   667 clojure.core$apply/invokeStatic                           ",
      "               core.clj:  5985 clojure.core$load_libs/invokeStatic                       ",
      "               core.clj:  5969 clojure.core$load_libs/doInvoke                           ",
      "            RestFn.java:   137 clojure.lang.RestFn/applyTo                               ",
      "               core.clj:   667 clojure.core$apply/invokeStatic                           ",
      "               core.clj:  6007 clojure.core$require/invokeStatic                         ",
      "            RestFn.java:   408 clojure.lang.RestFn/invoke                                ",
      "                     []:     1 test_java_time$eval4928$loading__6706__auto____4929/invoke",
      "               core.clj:  3214 clojure.core$eval/invokeStatic                            ",
      "               core.clj:  3210 clojure.core$eval/invoke                                  ",
      "               main.clj:   414 clojure.main$repl$read_eval_print__9068$fn__9071/invoke   ",
      "               main.clj:   435 clojure.main$repl$fn__9077/invoke                         ",
      "               main.clj:   345 clojure.main$repl/doInvoke                                ",
      "            RestFn.java:  1523 clojure.lang.RestFn/invoke                                ",
      "               AFn.java:   152 clojure.lang.AFn/applyToHelper                            ",
      "               AFn.java:   144 clojure.lang.AFn/applyTo                                  ",
      "               core.clj:   665 clojure.core$apply/invokeStatic                           ",
      "               core.clj:  1973 clojure.core$with_bindings_STAR_/invokeStatic             ",
      "            RestFn.java:   425 clojure.lang.RestFn/invoke                                ",
      "               AFn.java:    22 clojure.lang.AFn/run                                      ",
      "ThreadPoolExecutor.java:  1142 java.util.concurrent.ThreadPoolExecutor/runWorker         ",
      "ThreadPoolExecutor.java:   617 java.util.concurrent.ThreadPoolExecutor$Worker/run        ",
      "            Thread.java:   745 java.lang.Thread/run                                      "
     ]
    }
   ],
   "source": [
    "(ns test-java-time\n",
    "    (:require [java-time :as dt]))\n",
    "\n"
   ]
  },
  {
   "cell_type": "code",
   "execution_count": null,
   "metadata": {},
   "outputs": [],
   "source": []
  },
  {
   "cell_type": "code",
   "execution_count": null,
   "metadata": {},
   "outputs": [],
   "source": []
  }
 ],
 "metadata": {
  "kernelspec": {
   "display_name": "Clojure (clojupyter)",
   "language": "clojure",
   "name": "clojure"
  },
  "language_info": {
   "file_extension": ".clj",
   "mimetype": "text/x-clojure",
   "name": "clojure",
   "version": "1.10.0"
  }
 },
 "nbformat": 4,
 "nbformat_minor": 2
}
